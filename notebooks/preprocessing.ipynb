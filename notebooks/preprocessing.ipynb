{
 "metadata": {
  "language_info": {
   "codemirror_mode": {
    "name": "ipython",
    "version": 3
   },
   "file_extension": ".py",
   "mimetype": "text/x-python",
   "name": "python",
   "nbconvert_exporter": "python",
   "pygments_lexer": "ipython3",
   "version": "3.8.5"
  },
  "orig_nbformat": 2,
  "kernelspec": {
   "name": "python385jvsc74a57bd02d5ffdfa1a127a7376b004f582d5e7665ed48c9a296dbbd489e369a4564db1c3",
   "display_name": "Python 3.8.5 64-bit ('base': conda)"
  }
 },
 "nbformat": 4,
 "nbformat_minor": 2,
 "cells": [
  {
   "cell_type": "code",
   "execution_count": 1,
   "metadata": {},
   "outputs": [],
   "source": [
    "import pickle\n",
    "import numpy as np\n",
    "import pandas as pd\n",
    "from sklearn.ensemble import RandomForestClassifier\n",
    "from sklearn.preprocessing import OneHotEncoder"
   ]
  },
  {
   "cell_type": "code",
   "execution_count": 4,
   "metadata": {},
   "outputs": [],
   "source": [
    "# Load data and save indices of columns\n",
    "df = pd.read_csv(\"data.csv\")\n",
    "features = df.drop('left', 1).columns\n",
    "pickle.dump(features, open('features.pickle', 'wb'))\n"
   ]
  },
  {
   "cell_type": "code",
   "execution_count": 5,
   "metadata": {},
   "outputs": [],
   "source": [
    "# Fit and save an OneHotEncoder\n",
    "columns_to_fit = ['sales', 'salary']\n",
    "enc = OneHotEncoder(sparse=False).fit(df.loc[:, columns_to_fit])\n",
    "pickle.dump(enc, open('encoder.pickle', 'wb'))"
   ]
  },
  {
   "cell_type": "code",
   "execution_count": 6,
   "metadata": {},
   "outputs": [],
   "source": [
    "# Transform variables, merge with existing df and keep column names\n",
    "column_names = enc.get_feature_names(columns_to_fit)\n",
    "encoded_variables = pd.DataFrame(enc.transform(df.loc[:, columns_to_fit]), columns=column_names)\n",
    "df = df.drop(columns_to_fit, 1)\n",
    "df = pd.concat([df, encoded_variables], axis=1)"
   ]
  },
  {
   "cell_type": "code",
   "execution_count": 8,
   "metadata": {},
   "outputs": [],
   "source": [
    "# Fit and save model\n",
    "X, y = df.drop('left', 1), df.loc[:, 'left']\n",
    "clf = RandomForestClassifier().fit(X, y)\n",
    "pickle.dump(clf, open('model.pickle', 'wb'))"
   ]
  },
  {
   "cell_type": "code",
   "execution_count": null,
   "metadata": {},
   "outputs": [],
   "source": []
  }
 ]
}