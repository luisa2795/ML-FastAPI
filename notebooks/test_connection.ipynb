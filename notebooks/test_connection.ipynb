{
 "metadata": {
  "language_info": {
   "codemirror_mode": {
    "name": "ipython",
    "version": 3
   },
   "file_extension": ".py",
   "mimetype": "text/x-python",
   "name": "python",
   "nbconvert_exporter": "python",
   "pygments_lexer": "ipython3",
   "version": "3.8.5"
  },
  "orig_nbformat": 2,
  "kernelspec": {
   "name": "python385jvsc74a57bd02d5ffdfa1a127a7376b004f582d5e7665ed48c9a296dbbd489e369a4564db1c3",
   "display_name": "Python 3.8.5 64-bit ('base': conda)"
  }
 },
 "nbformat": 4,
 "nbformat_minor": 2,
 "cells": [
  {
   "cell_type": "code",
   "execution_count": 1,
   "metadata": {},
   "outputs": [
    {
     "output_type": "execute_result",
     "data": {
      "text/plain": [
       "{'prediction': 1}"
      ]
     },
     "metadata": {},
     "execution_count": 1
    }
   ],
   "source": [
    "import requests\n",
    "to_predict_dict = {'satisfaction_level': 0.38,\n",
    "                   'last_evaluation': 0.53,\n",
    "                   'number_project': 2,\n",
    "                   'average_montly_hours': 157,\n",
    "                   'time_spend_company': 3,\n",
    "                   'Work_accident': 0,\n",
    "                   'promotion_last_5years': 0,\n",
    "                   'sales': 'support',\n",
    "                   'salary': 'low'}\n",
    "\n",
    "url = 'http://127.0.0.1:8000/predict'\n",
    "r = requests.post(url,json=to_predict_dict); r.json()"
   ]
  },
  {
   "cell_type": "code",
   "execution_count": null,
   "metadata": {},
   "outputs": [],
   "source": []
  }
 ]
}